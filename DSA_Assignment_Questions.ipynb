{
  "nbformat": 4,
  "nbformat_minor": 0,
  "metadata": {
    "colab": {
      "provenance": []
    },
    "kernelspec": {
      "name": "python3",
      "display_name": "Python 3"
    },
    "language_info": {
      "name": "python"
    }
  },
  "cells": [
    {
      "cell_type": "markdown",
      "source": [
        "Problem 1: Reverse a singly linked list.\n",
        "\n",
        "Input: 1 -> 2 -> 3 -> 4 -> 5\n",
        "Output: 5 -> 4 -> 3 -> 2 -> 1"
      ],
      "metadata": {
        "id": "deHHpjz6BsvS"
      }
    },
    {
      "cell_type": "code",
      "source": [
        "class Node:\n",
        "  def __init__(self,data):\n",
        "    self.data= data\n",
        "    self.next= None\n",
        "\n",
        "  def __str__(self):\n",
        "      return str(self.data)\n",
        "\n",
        "class LinkList:\n",
        "  def __init__(self):\n",
        "    self.head=None\n",
        "    self.n=0\n",
        "\n",
        "  def append(self,data):\n",
        "    new_node= Node(data)\n",
        "\n",
        "    if self.head==None:\n",
        "      self.head=new_node\n",
        "      self.n+= 1\n",
        "      return\n",
        "\n",
        "    temp=self.head\n",
        "    while temp.next!= None:\n",
        "      temp=temp.next\n",
        "    temp.next=new_node\n",
        "    self.n+= 1\n",
        "\n",
        "  def __str__(self):\n",
        "    temp=self.head\n",
        "    result=''\n",
        "    while temp!= None:\n",
        "      result=result + str(temp.data) +'->'\n",
        "      temp= temp.next\n",
        "    return result[:-2]\n",
        "\n",
        "  def reverse(self):\n",
        "    prev_node=None\n",
        "    cur_node=self.head\n",
        "\n",
        "    while cur_node!= None:\n",
        "      next_node= cur_node.next\n",
        "      cur_node.next=prev_node\n",
        "      prev_node = cur_node\n",
        "      cur_node = next_node\n",
        "\n",
        "    self.head= prev_node\n",
        "    print(self)"
      ],
      "metadata": {
        "id": "GTkTp8Y7DH7o"
      },
      "execution_count": null,
      "outputs": []
    },
    {
      "cell_type": "code",
      "source": [
        "l=LinkList()"
      ],
      "metadata": {
        "id": "YudECqRGEDZO"
      },
      "execution_count": null,
      "outputs": []
    },
    {
      "cell_type": "code",
      "source": [
        "l.append(1)\n",
        "l.append(2)\n",
        "l.append(3)\n",
        "l.append(4)\n",
        "l.append(5)"
      ],
      "metadata": {
        "id": "Ql1vAx__EIK_"
      },
      "execution_count": null,
      "outputs": []
    },
    {
      "cell_type": "code",
      "source": [
        "print(l)\n",
        "l.reverse()"
      ],
      "metadata": {
        "id": "2te0578wEMM-"
      },
      "execution_count": null,
      "outputs": []
    },
    {
      "cell_type": "markdown",
      "source": [
        "Problem 2: Merge two sorted linked lists into one sorted linked list.\n",
        "\n",
        "Input: List 1: 1 -> 3 -> 5, List 2: 2 -> 4 -> 6\n",
        "Output: 1 -> 2 -> 3 -> 4 -> 5 -> 6"
      ],
      "metadata": {
        "id": "Nmn6ngzOO0jD"
      }
    },
    {
      "cell_type": "code",
      "source": [
        "class Node:\n",
        "    def __init__(self, data):\n",
        "        self.data = data\n",
        "        self.next = None\n",
        "\n",
        "    def __str__(self):\n",
        "        return str(self.data)\n",
        "\n",
        "\n",
        "class LinkList:\n",
        "    def __init__(self):\n",
        "        self.head = None\n",
        "        self.n = 0\n",
        "\n",
        "    def append(self, data):\n",
        "        new_node = Node(data)\n",
        "\n",
        "        if self.head is None:\n",
        "            self.head = new_node\n",
        "            self.n += 1\n",
        "            return\n",
        "\n",
        "        temp = self.head\n",
        "        while temp.next is not None:\n",
        "            temp = temp.next\n",
        "        temp.next = new_node\n",
        "        self.n += 1\n",
        "\n",
        "    def __str__(self):\n",
        "        temp = self.head\n",
        "        result = ''\n",
        "        while temp is not None:\n",
        "            result = result + str(temp) + ' -> '\n",
        "            temp = temp.next\n",
        "        return result[:-4]\n",
        "\n",
        "    def reverse(self):\n",
        "        prev_node = None\n",
        "        cur_node = self.head\n",
        "\n",
        "        while cur_node is not None:\n",
        "            next_node = cur_node.next\n",
        "            cur_node.next = prev_node\n",
        "            prev_node = cur_node\n",
        "            cur_node = next_node\n",
        "\n",
        "        self.head = prev_node\n",
        "        print(self)\n",
        "\n",
        "    def Merge_list(self, list1, list2):\n",
        "        dummy_head = Node(None)  # Use a dummy Node instead of LinkList\n",
        "        current = dummy_head\n",
        "\n",
        "        while list1 is not None and list2 is not None:\n",
        "            if list1.data < list2.data:\n",
        "                current.next = list1\n",
        "                list1 = list1.next\n",
        "            else:\n",
        "                current.next = list2\n",
        "                list2 = list2.next\n",
        "            current = current.next\n",
        "\n",
        "        if list1 is not None:\n",
        "            current.next = list1\n",
        "        elif list2 is not None:\n",
        "            current.next = list2\n",
        "\n",
        "        result_list = LinkList()\n",
        "        result_list.head = dummy_head.next  # Set the head of the result list\n",
        "\n",
        "        return result_list\n"
      ],
      "metadata": {
        "id": "OsPiefhgVYBB"
      },
      "execution_count": null,
      "outputs": []
    },
    {
      "cell_type": "code",
      "source": [
        "list1 = LinkList()\n",
        "list2 = LinkList()\n",
        "\n",
        "for data in [1, 3, 5]:\n",
        "    list1.append(data)\n",
        "\n",
        "for data in [2, 4, 6]:\n",
        "    list2.append(data)"
      ],
      "metadata": {
        "id": "eoRhlt_cIL-F"
      },
      "execution_count": null,
      "outputs": []
    },
    {
      "cell_type": "code",
      "source": [
        "print(\"List 1:\", list1)\n",
        "print(\"List 2:\", list2)\n"
      ],
      "metadata": {
        "id": "H1pALou6Xxom"
      },
      "execution_count": null,
      "outputs": []
    },
    {
      "cell_type": "code",
      "source": [
        "merged_list = LinkList().Merge_list(list1.head, list2.head)"
      ],
      "metadata": {
        "id": "wPro5GtpSKxA"
      },
      "execution_count": null,
      "outputs": []
    },
    {
      "cell_type": "code",
      "source": [
        "print(\"Merged List:\", merged_list)"
      ],
      "metadata": {
        "id": "2fj7T94xStnf"
      },
      "execution_count": null,
      "outputs": []
    },
    {
      "cell_type": "code",
      "source": [
        "print(list1)"
      ],
      "metadata": {
        "id": "4oqlaejGUlb3"
      },
      "execution_count": null,
      "outputs": []
    },
    {
      "cell_type": "markdown",
      "source": [
        "Problem 3: Remove the nth node from the end of a linked list.\n",
        "\n",
        "Input: 1 -> 2 -> 3 -> 4 -> 5, n = 2\n",
        "Output: 1 -> 2 -> 3 -> 5"
      ],
      "metadata": {
        "id": "rjlvw2KPZ1LP"
      }
    },
    {
      "cell_type": "code",
      "source": [
        "class Node:\n",
        "    def __init__(self, data):\n",
        "        self.data = data\n",
        "        self.next = None\n",
        "\n",
        "    def __str__(self):\n",
        "        return str(self.data)\n",
        "\n",
        "\n",
        "class LinkList:\n",
        "    def __init__(self):\n",
        "        self.head = None\n",
        "        self.n = 0\n",
        "\n",
        "    def append(self, data):\n",
        "        new_node = Node(data)\n",
        "\n",
        "        if self.head is None:\n",
        "            self.head = new_node\n",
        "            self.n += 1\n",
        "            return\n",
        "\n",
        "        temp = self.head\n",
        "        while temp.next is not None:\n",
        "            temp = temp.next\n",
        "        temp.next = new_node\n",
        "        self.n += 1\n",
        "\n",
        "    def __str__(self):\n",
        "        temp = self.head\n",
        "        result = ''\n",
        "        while temp is not None:\n",
        "            result = result + str(temp) + ' -> '\n",
        "            temp = temp.next\n",
        "        return result[:-4]\n",
        "\n",
        "    def reverse(self):\n",
        "        prev_node = None\n",
        "        cur_node = self.head\n",
        "\n",
        "        while cur_node is not None:\n",
        "            next_node = cur_node.next\n",
        "            cur_node.next = prev_node\n",
        "            prev_node = cur_node\n",
        "            cur_node = next_node\n",
        "\n",
        "        self.head = prev_node\n",
        "        print(self)\n",
        "\n",
        "    def Merge_list(self, list1, list2):\n",
        "        dummy_head = Node(None)  # Use a dummy Node instead of LinkList\n",
        "        current = dummy_head\n",
        "\n",
        "        while list1 is not None and list2 is not None:\n",
        "            if list1.data < list2.data:\n",
        "                current.next = list1\n",
        "                list1 = list1.next\n",
        "            else:\n",
        "                current.next = list2\n",
        "                list2 = list2.next\n",
        "            current = current.next\n",
        "\n",
        "        if list1 is not None:\n",
        "            current.next = list1\n",
        "        elif list2 is not None:\n",
        "            current.next = list2\n",
        "\n",
        "        result_list = LinkList()\n",
        "        result_list.head = dummy_head.next  # Set the head of the result list\n",
        "\n",
        "        return result_list\n",
        "\n",
        "    def __len__(self):\n",
        "      curr=self.head\n",
        "      count=0\n",
        "      while curr!= None:\n",
        "        count+=1\n",
        "        curr=curr.next\n",
        "      self.n= count\n",
        "      return self.n\n",
        "\n",
        "    def Remove_nth(self,n):\n",
        "      if self.head==None:\n",
        "        return \"LinkList is Empty\"\n",
        "\n",
        "      no=len(self)-n\n",
        "      curr=self.head\n",
        "      if curr.next==None:\n",
        "        return self.head==None\n",
        "\n",
        "      for _ in range(no-1):\n",
        "        curr=curr.next\n",
        "      curr.next=curr.next.next\n"
      ],
      "metadata": {
        "id": "wWkPCd9jZgW8"
      },
      "execution_count": null,
      "outputs": []
    },
    {
      "cell_type": "code",
      "source": [
        "list1 = LinkList()\n",
        "\n",
        "for data in [1, 2, 3, 4, 5]:\n",
        "    list1.append(data)"
      ],
      "metadata": {
        "id": "Kcf7cQYLaFpE"
      },
      "execution_count": null,
      "outputs": []
    },
    {
      "cell_type": "code",
      "source": [
        "list1.Remove_nth(2)"
      ],
      "metadata": {
        "id": "olE1nyxUgFcx"
      },
      "execution_count": null,
      "outputs": []
    },
    {
      "cell_type": "code",
      "source": [
        "print(list1)"
      ],
      "metadata": {
        "id": "ju--6QurtB6b"
      },
      "execution_count": null,
      "outputs": []
    },
    {
      "cell_type": "markdown",
      "source": [
        "Problem 4: Find the intersection point of two linked lists.\n",
        "\n",
        "Input: List 1: 1 -> 2 -> 3 -> 4, List 2: 9 -> 8 -> 3 -> 4\n",
        "Output: Node with value 3\n"
      ],
      "metadata": {
        "id": "-Pg3Xuzh4iFu"
      }
    },
    {
      "cell_type": "code",
      "source": [
        "class Node:\n",
        "    def __init__(self, data):\n",
        "        self.data = data\n",
        "        self.next = None\n",
        "\n",
        "    def __str__(self):\n",
        "        return str(self.data)\n",
        "\n",
        "\n",
        "class LinkList:\n",
        "    def __init__(self):\n",
        "        self.head = None\n",
        "        self.n = 0\n",
        "\n",
        "    def append(self, data):\n",
        "        new_node = Node(data)\n",
        "\n",
        "        if self.head is None:\n",
        "            self.head = new_node\n",
        "            self.n += 1\n",
        "            return\n",
        "\n",
        "        temp = self.head\n",
        "        while temp.next is not None:\n",
        "            temp = temp.next\n",
        "        temp.next = new_node\n",
        "        self.n += 1\n",
        "\n",
        "    def __str__(self):\n",
        "        temp = self.head\n",
        "        result = ''\n",
        "        while temp is not None:\n",
        "            result = result + str(temp) + ' -> '\n",
        "            temp = temp.next\n",
        "        return result[:-4]\n",
        "\n",
        "    def reverse(self):\n",
        "        prev_node = None\n",
        "        cur_node = self.head\n",
        "\n",
        "        while cur_node is not None:\n",
        "            next_node = cur_node.next\n",
        "            cur_node.next = prev_node\n",
        "            prev_node = cur_node\n",
        "            cur_node = next_node\n",
        "\n",
        "        self.head = prev_node\n",
        "        print(self)\n",
        "\n",
        "    def Merge_list(self, list1, list2):\n",
        "        dummy_head = Node(None)  # Use a dummy Node instead of LinkList\n",
        "        current = dummy_head\n",
        "\n",
        "        while list1 is not None and list2 is not None:\n",
        "            if list1.data < list2.data:\n",
        "                current.next = list1\n",
        "                list1 = list1.next\n",
        "            else:\n",
        "                current.next = list2\n",
        "                list2 = list2.next\n",
        "            current = current.next\n",
        "\n",
        "        if list1 is not None:\n",
        "            current.next = list1\n",
        "        elif list2 is not None:\n",
        "            current.next = list2\n",
        "\n",
        "        result_list = LinkList()\n",
        "        result_list.head = dummy_head.next  # Set the head of the result list\n",
        "\n",
        "        return result_list\n",
        "\n",
        "    def __len__(self):\n",
        "      curr=self.head\n",
        "      count=0\n",
        "      while curr!= None:\n",
        "        count+=1\n",
        "        curr=curr.next\n",
        "      self.n= count\n",
        "      return self.n\n",
        "\n",
        "    def Remove_nth(self,n):\n",
        "      if self.head==None:\n",
        "        return \"LinkList is Empty\"\n",
        "\n",
        "      no=len(self)-n\n",
        "      curr=self.head\n",
        "      if curr.next==None:\n",
        "        return self.head==None\n",
        "\n",
        "      for _ in range(no-1):\n",
        "        curr=curr.next\n",
        "      curr.next=curr.next.next\n",
        "\n",
        "    def intersection(self,list2):\n",
        "      list1=[]\n",
        "      list21=[]\n",
        "      pointer1 = self.head\n",
        "      pointer2 = list2.head\n",
        "      while pointer2!=None or pointer1!=None:\n",
        "        list1.append(pointer1.data)\n",
        "        list21.append(pointer2.data)\n",
        "        pointer1 = pointer1.next\n",
        "        pointer2 = pointer2.next\n",
        "      intersection_list = [value for value in list1 if value in list21]\n",
        "      print(\"Intersection of list 1 and list 2:\", intersection_list)\n"
      ],
      "metadata": {
        "id": "s360YjiyDoII"
      },
      "execution_count": null,
      "outputs": []
    },
    {
      "cell_type": "code",
      "source": [
        "list1 = LinkList()\n",
        "list2 = LinkList()\n",
        "\n",
        "for data in [1, 2, 3, 4]:\n",
        "    list1.append(data)\n",
        "\n",
        "for data in [9, 8, 3, 4]:\n",
        "    list2.append(data)"
      ],
      "metadata": {
        "id": "ywGy5IsX5xVV"
      },
      "execution_count": null,
      "outputs": []
    },
    {
      "cell_type": "code",
      "source": [
        "list1.intersection(list2)"
      ],
      "metadata": {
        "id": "_uzH5ecvP6Y7"
      },
      "execution_count": null,
      "outputs": []
    },
    {
      "cell_type": "markdown",
      "source": [
        "Problem 5: Remove duplicates from a sorted linked list.\n",
        "\n",
        "Input: 1 -> 1 -> 2 -> 3 -> 3\n",
        "Output: 1 -> 2 -> 3"
      ],
      "metadata": {
        "id": "td7m7Og1QkV0"
      }
    },
    {
      "cell_type": "code",
      "source": [
        "class Node:\n",
        "    def __init__(self, data):\n",
        "        self.data = data\n",
        "        self.next = None\n",
        "\n",
        "    def __str__(self):\n",
        "        return str(self.data)\n",
        "\n",
        "\n",
        "class LinkList:\n",
        "    def __init__(self):\n",
        "        self.head = None\n",
        "        self.n = 0\n",
        "\n",
        "    def append(self, data):\n",
        "        new_node = Node(data)\n",
        "\n",
        "        if self.head is None:\n",
        "            self.head = new_node\n",
        "            self.n += 1\n",
        "            return\n",
        "\n",
        "        temp = self.head\n",
        "        while temp.next is not None:\n",
        "            temp = temp.next\n",
        "        temp.next = new_node\n",
        "        self.n += 1\n",
        "\n",
        "    def __str__(self):\n",
        "        temp = self.head\n",
        "        result = ''\n",
        "        while temp is not None:\n",
        "            result = result + str(temp) + ' -> '\n",
        "            temp = temp.next\n",
        "        return result[:-4]\n",
        "\n",
        "    def reverse(self):\n",
        "        prev_node = None\n",
        "        cur_node = self.head\n",
        "\n",
        "        while cur_node is not None:\n",
        "            next_node = cur_node.next\n",
        "            cur_node.next = prev_node\n",
        "            prev_node = cur_node\n",
        "            cur_node = next_node\n",
        "\n",
        "        self.head = prev_node\n",
        "        print(self)\n",
        "\n",
        "    def Merge_list(self, list1, list2):\n",
        "        dummy_head = Node(None)  # Use a dummy Node instead of LinkList\n",
        "        current = dummy_head\n",
        "\n",
        "        while list1 is not None and list2 is not None:\n",
        "            if list1.data < list2.data:\n",
        "                current.next = list1\n",
        "                list1 = list1.next\n",
        "            else:\n",
        "                current.next = list2\n",
        "                list2 = list2.next\n",
        "            current = current.next\n",
        "\n",
        "        if list1 is not None:\n",
        "            current.next = list1\n",
        "        elif list2 is not None:\n",
        "            current.next = list2\n",
        "\n",
        "        result_list = LinkList()\n",
        "        result_list.head = dummy_head.next  # Set the head of the result list\n",
        "\n",
        "        return result_list\n",
        "\n",
        "    def __len__(self):\n",
        "      curr=self.head\n",
        "      count=0\n",
        "      while curr!= None:\n",
        "        count+=1\n",
        "        curr=curr.next\n",
        "      self.n= count\n",
        "      return self.n\n",
        "\n",
        "    def Remove_nth(self,n):\n",
        "      if self.head==None:\n",
        "        return \"LinkList is Empty\"\n",
        "\n",
        "      no=len(self)-n\n",
        "      curr=self.head\n",
        "      if curr.next==None:\n",
        "        return self.head==None\n",
        "\n",
        "      for _ in range(no-1):\n",
        "        curr=curr.next\n",
        "      curr.next=curr.next.next\n",
        "\n",
        "    def intersection(self,list2):\n",
        "      list1=[]\n",
        "      list21=[]\n",
        "      pointer1 = self.head\n",
        "      pointer2 = list2.head\n",
        "      while pointer2!=None or pointer1!=None:\n",
        "        list1.append(pointer1.data)\n",
        "        list21.append(pointer2.data)\n",
        "        pointer1 = pointer1.next\n",
        "        pointer2 = pointer2.next\n",
        "      intersection_list = [value for value in list1 if value in list21]\n",
        "      print(\"Intersection of list 1 and list 2:\", intersection_list)\n",
        "\n",
        "    def duplicate1(self):\n",
        "      current= self.head\n",
        "      while current!=None:\n",
        "        if current.data == current.next.data:\n",
        "          current.next=current.next.next\n",
        "      else:\n",
        "        current = current.next\n",
        "      return self.head"
      ],
      "metadata": {
        "id": "kfGL9jDTEiCA"
      },
      "execution_count": null,
      "outputs": []
    },
    {
      "cell_type": "code",
      "source": [
        "list_sort = LinkList()\n",
        "\n",
        "for data in [1, 1, 2, 3, 3, 4, 5]:\n",
        "    list_sort.append(data)"
      ],
      "metadata": {
        "id": "jhosGwC-8z4L"
      },
      "execution_count": null,
      "outputs": []
    },
    {
      "cell_type": "code",
      "source": [
        "print(list_sort)"
      ],
      "metadata": {
        "id": "HjMJ-qy4U-ii"
      },
      "execution_count": null,
      "outputs": []
    },
    {
      "cell_type": "code",
      "source": [
        "list_sort.duplicate1()"
      ],
      "metadata": {
        "id": "-ox0sbuYSfyA"
      },
      "execution_count": null,
      "outputs": []
    },
    {
      "cell_type": "markdown",
      "source": [
        "problem 6: Add two numbers represented by linked list(where each node contain a single digit).\n",
        "\n",
        "\n",
        "Input: List 1: 2 -> 4 -> 3, List 2: 5 -> 6 -> 4 (represents 342 + 465)\n",
        "\n",
        "Output: 7 -> 0 -> 8 (represents 807)"
      ],
      "metadata": {
        "id": "LZw7VGRILGHg"
      }
    },
    {
      "cell_type": "code",
      "source": [
        "class ListNode:\n",
        "    def __init__(self, value=0, next=None):\n",
        "        self.value = value\n",
        "        self.next = next\n",
        "\n",
        "def reverse_linked_list(head):\n",
        "    prev = None\n",
        "    current = head\n",
        "    while current:\n",
        "        next_node = current.next\n",
        "        current.next = prev\n",
        "        prev = current\n",
        "        current = next_node\n",
        "    return prev\n",
        "\n",
        "def add_two_numbers(l1, l2):\n",
        "    # Reverse both linked lists\n",
        "    l1 = reverse_linked_list(l1)\n",
        "    l2 = reverse_linked_list(l2)\n",
        "\n",
        "    carry = 0\n",
        "    dummy_head = ListNode(0)\n",
        "    current = dummy_head\n",
        "\n",
        "    while l1 or l2 or carry:\n",
        "        val1 = l1.value if l1 else 0\n",
        "        val2 = l2.value if l2 else 0\n",
        "\n",
        "        total = val1 + val2 + carry\n",
        "        carry = total // 10\n",
        "        new_digit = total % 10\n",
        "\n",
        "        current.next = ListNode(new_digit)\n",
        "        current = current.next\n",
        "\n",
        "        if l1:\n",
        "            l1 = l1.next\n",
        "        if l2:\n",
        "            l2 = l2.next\n",
        "\n",
        "    # Reverse the result to get the final number in normal order\n",
        "    return reverse_linked_list(dummy_head.next)\n",
        "\n",
        "# Helper function to print the linked list\n",
        "def print_linked_list(head):\n",
        "    current = head\n",
        "    while current:\n",
        "        print(current.value, end=' ')\n",
        "        current = current.next\n",
        "    print()\n",
        "\n",
        "# Example usage\n",
        "# Creating List 1: 2 -> 4 -> 3\n",
        "l1 = ListNode(2, ListNode(4, ListNode(3)))\n",
        "\n",
        "# Creating List 2: 5 -> 6 -> 4\n",
        "l2 = ListNode(5, ListNode(6, ListNode(4)))\n",
        "\n",
        "result = add_two_numbers(l1, l2)\n",
        "print_linked_list(result)  # Expected output: 7 -> 0 -> 8\n"
      ],
      "metadata": {
        "id": "KhLhLPLFSiz4",
        "colab": {
          "base_uri": "https://localhost:8080/"
        },
        "outputId": "bb7e6e8b-1e74-47ec-d7a5-3ec961e250fa"
      },
      "execution_count": 1,
      "outputs": [
        {
          "output_type": "stream",
          "name": "stdout",
          "text": [
            "8 0 7 \n"
          ]
        }
      ]
    },
    {
      "cell_type": "markdown",
      "source": [
        "Problem 7: Swap nodes in pairs in a linked list.\n",
        "\n",
        "Input: 1 -> 2 -> 3 -> 4\n",
        "\n",
        "Output: 2 -> 1 -> 4 -> 3"
      ],
      "metadata": {
        "id": "Uv13Rp_cL7EI"
      }
    },
    {
      "cell_type": "code",
      "source": [
        "class ListNode:\n",
        "    def __init__(self, value=0, next=None):\n",
        "        self.value = value\n",
        "        self.next = next\n",
        "\n",
        "def swap_pairs(head):\n",
        "    # Create a dummy node to simplify edge cases\n",
        "    dummy = ListNode(0)\n",
        "    dummy.next = head\n",
        "    prev = dummy\n",
        "\n",
        "    while head and head.next:\n",
        "        # Nodes to be swapped\n",
        "        first = head\n",
        "        second = head.next\n",
        "\n",
        "        # Perform the swap\n",
        "        prev.next = second\n",
        "        first.next = second.next\n",
        "        second.next = first\n",
        "\n",
        "        # Move the pointers forward\n",
        "        prev = first\n",
        "        head = first.next\n",
        "\n",
        "    return dummy.next\n",
        "\n",
        "# Helper function to print the linked list\n",
        "def print_linked_list(head):\n",
        "    current = head\n",
        "    while current:\n",
        "        print(current.value, end=' -> ' if current.next else '')\n",
        "        current = current.next\n",
        "    print()\n",
        "\n",
        "# Example usage\n",
        "# Creating List: 1 -> 2 -> 3 -> 4\n",
        "head = ListNode(1, ListNode(2, ListNode(3, ListNode(4))))\n",
        "\n",
        "result = swap_pairs(head)\n",
        "print_linked_list(result)  # Expected output: 2 -> 1 -> 4 -> 3\n"
      ],
      "metadata": {
        "colab": {
          "base_uri": "https://localhost:8080/"
        },
        "id": "hnuqjeH0LvkZ",
        "outputId": "830c9ab8-d0b0-42b3-9e7a-6ffe71527168"
      },
      "execution_count": 2,
      "outputs": [
        {
          "output_type": "stream",
          "name": "stdout",
          "text": [
            "2 -> 1 -> 4 -> 3\n"
          ]
        }
      ]
    },
    {
      "cell_type": "markdown",
      "source": [
        "Problem 8: Reverse nodes in a linked list in groups of k.\n",
        "\n",
        "Input: 1 -> 2 -> 3 -> 4 -> 5, k = 3\n",
        "\n",
        "Output: 3 -> 2 -> 1 -> 4 -> 5"
      ],
      "metadata": {
        "id": "5NQbL9F-MP8B"
      }
    },
    {
      "cell_type": "code",
      "source": [
        "class ListNode:\n",
        "    def __init__(self, value=0, next=None):\n",
        "        self.value = value\n",
        "        self.next = next\n",
        "\n",
        "def reverse_in_groups(head, k):\n",
        "    # Function to reverse a linked list\n",
        "    def reverse_list(head, k):\n",
        "        prev = None\n",
        "        curr = head\n",
        "        while k > 0:\n",
        "            next_node = curr.next\n",
        "            curr.next = prev\n",
        "            prev = curr\n",
        "            curr = next_node\n",
        "            k -= 1\n",
        "        return prev  # New head of the reversed list\n",
        "\n",
        "    # Function to find the kth node from the start\n",
        "    def get_kth_node(head, k):\n",
        "        curr = head\n",
        "        while k > 1 and curr:\n",
        "            curr = curr.next\n",
        "            k -= 1\n",
        "        return curr\n",
        "\n",
        "    dummy = ListNode(0)\n",
        "    dummy.next = head\n",
        "    group_prev = dummy\n",
        "    while True:\n",
        "        # Get the kth node from the start\n",
        "        kth_node = get_kth_node(group_prev.next, k)\n",
        "        if not kth_node:\n",
        "            break\n",
        "        # Mark the node after the kth node\n",
        "        group_next = kth_node.next\n",
        "        # Reverse the k nodes\n",
        "        prev, curr = group_prev.next, group_prev.next.next\n",
        "        kth_node.next = None\n",
        "        group_prev.next = reverse_list(prev, k)\n",
        "        prev.next = group_next\n",
        "        group_prev = prev\n",
        "\n",
        "    return dummy.next\n",
        "\n",
        "# Helper function to print the linked list\n",
        "def print_linked_list(head):\n",
        "    current = head\n",
        "    while current:\n",
        "        print(current.value, end=' -> ' if current.next else '')\n",
        "        current = current.next\n",
        "    print()\n",
        "\n",
        "# Example usage\n",
        "# Creating List: 1 -> 2 -> 3 -> 4 -> 5\n",
        "head = ListNode(1, ListNode(2, ListNode(3, ListNode(4, ListNode(5)))))\n",
        "\n",
        "k = 3\n",
        "result = reverse_in_groups(head, k)\n",
        "print_linked_list(result)  # Expected output: 3 -> 2 -> 1 -> 4 -> 5\n"
      ],
      "metadata": {
        "colab": {
          "base_uri": "https://localhost:8080/"
        },
        "id": "gDzXRa4fMNHR",
        "outputId": "8d6476e9-3a65-42c9-a27d-ddc3ca4bdac1"
      },
      "execution_count": 3,
      "outputs": [
        {
          "output_type": "stream",
          "name": "stdout",
          "text": [
            "3 -> 2 -> 1 -> 4 -> 5\n"
          ]
        }
      ]
    },
    {
      "cell_type": "markdown",
      "source": [
        "Problem 9: Determine if a linked list is a palindrome.\n",
        "\n",
        "Input: 1 -> 2 -> 2 -> 1\n",
        "\n",
        "Output: True"
      ],
      "metadata": {
        "id": "bw_QiMIkMcY_"
      }
    },
    {
      "cell_type": "code",
      "source": [
        "class ListNode:\n",
        "    def __init__(self, value=0, next=None):\n",
        "        self.value = value\n",
        "        self.next = next\n",
        "\n",
        "def is_palindrome(head):\n",
        "    # Function to find the middle of the linked list\n",
        "    def find_middle(head):\n",
        "        slow = head\n",
        "        fast = head\n",
        "        while fast and fast.next:\n",
        "            slow = slow.next\n",
        "            fast = fast.next.next\n",
        "        return slow\n",
        "\n",
        "    # Function to reverse the linked list\n",
        "    def reverse_list(head):\n",
        "        prev = None\n",
        "        curr = head\n",
        "        while curr:\n",
        "            next_node = curr.next\n",
        "            curr.next = prev\n",
        "            prev = curr\n",
        "            curr = next_node\n",
        "        return prev\n",
        "\n",
        "    # Function to check if two lists are equal\n",
        "    def is_equal(list1, list2):\n",
        "        while list2:\n",
        "            if list1.value != list2.value:\n",
        "                return False\n",
        "            list1 = list1.next\n",
        "            list2 = list2.next\n",
        "        return True\n",
        "\n",
        "    if not head or not head.next:\n",
        "        return True\n",
        "\n",
        "    # Step 1: Find the middle of the list\n",
        "    middle = find_middle(head)\n",
        "\n",
        "    # Step 2: Reverse the second half\n",
        "    second_half_start = reverse_list(middle.next)\n",
        "    first_half_start = head\n",
        "\n",
        "    # Step 3: Compare the first and second half\n",
        "    is_palindrome = is_equal(first_half_start, second_half_start)\n",
        "\n",
        "    # Optional: Restore the original list\n",
        "    middle.next = reverse_list(second_half_start)\n",
        "\n",
        "    return is_palindrome\n",
        "\n",
        "# Helper function to print the linked list\n",
        "def print_linked_list(head):\n",
        "    current = head\n",
        "    while current:\n",
        "        print(current.value, end=' -> ' if current.next else '')\n",
        "        current = current.next\n",
        "    print()\n",
        "\n",
        "# Example usage\n",
        "# Creating List: 1 -> 2 -> 2 -> 1\n",
        "head = ListNode(1, ListNode(2, ListNode(2, ListNode(1))))\n",
        "\n",
        "print(is_palindrome(head))  # Expected output: True\n"
      ],
      "metadata": {
        "colab": {
          "base_uri": "https://localhost:8080/"
        },
        "id": "ibw0VDweMZv4",
        "outputId": "a3f1a6d4-e01c-41f7-ea4c-01586400e241"
      },
      "execution_count": 4,
      "outputs": [
        {
          "output_type": "stream",
          "name": "stdout",
          "text": [
            "True\n"
          ]
        }
      ]
    },
    {
      "cell_type": "markdown",
      "source": [
        "Problem 10: Rotate a linked list to the right by k places.\n",
        "\n",
        "Input: 1 -> 2 -> 3 -> 4 -> 5, k = 2\n",
        "\n",
        "Output: 4 -> 5 -> 1 -> 2 -> 3\n"
      ],
      "metadata": {
        "id": "mXrwmyL6MvPn"
      }
    },
    {
      "cell_type": "code",
      "source": [
        "class ListNode:\n",
        "    def __init__(self, value=0, next=None):\n",
        "        self.value = value\n",
        "        self.next = next\n",
        "\n",
        "def rotate_right(head, k):\n",
        "    if not head or k == 0:\n",
        "        return head\n",
        "\n",
        "    # Step 1: Find the length of the list and the last node\n",
        "    length = 1\n",
        "    last_node = head\n",
        "    while last_node.next:\n",
        "        last_node = last_node.next\n",
        "        length += 1\n",
        "\n",
        "    # Step 2: Normalize k\n",
        "    k = k % length\n",
        "    if k == 0:\n",
        "        return head\n",
        "\n",
        "    # Step 3: Find the new tail (n - k) and new head (n - k + 1)\n",
        "    new_tail = head\n",
        "    for _ in range(length - k - 1):\n",
        "        new_tail = new_tail.next\n",
        "    new_head = new_tail.next\n",
        "\n",
        "    # Step 4: Rotate the list\n",
        "    new_tail.next = None\n",
        "    last_node.next = head\n",
        "\n",
        "    return new_head\n",
        "\n",
        "# Helper function to print the linked list\n",
        "def print_linked_list(head):\n",
        "    current = head\n",
        "    while current:\n",
        "        print(current.value, end=' -> ' if current.next else '')\n",
        "        current = current.next\n",
        "    print()\n",
        "\n",
        "# Example usage\n",
        "# Creating List: 1 -> 2 -> 3 -> 4 -> 5\n",
        "head = ListNode(1, ListNode(2, ListNode(3, ListNode(4, ListNode(5)))))\n",
        "\n",
        "k = 2\n",
        "result = rotate_right(head, k)\n",
        "print_linked_list(result)  # Expected output: 4 -> 5 -> 1 -> 2 -> 3\n"
      ],
      "metadata": {
        "colab": {
          "base_uri": "https://localhost:8080/"
        },
        "id": "SWSr3n3YMoHw",
        "outputId": "519c3aa9-5641-40b1-f678-ecfba8cf0503"
      },
      "execution_count": 5,
      "outputs": [
        {
          "output_type": "stream",
          "name": "stdout",
          "text": [
            "4 -> 5 -> 1 -> 2 -> 3\n"
          ]
        }
      ]
    },
    {
      "cell_type": "markdown",
      "source": [
        "Problem 11: Flatten a multilevel doubly linked list.\n",
        "\n",
        "Input: 1 <-> 2 <-> 3 <-> 7 <-> 8 <-> 11 -> 12, 4 <-> 5 -> 9 -> 10, 6 -> 13\n",
        "\n",
        "Output: 1 <-> 2 <-> 3 <-> 4 <-> 5 <-> 6 <-> 7 <-> 8 <-> 9 <-> 10 <-> 11 <-> 12 <-> 13"
      ],
      "metadata": {
        "id": "5dScVrUXM-xm"
      }
    },
    {
      "cell_type": "code",
      "source": [
        "class Node:\n",
        "    def __init__(self, value=0, next=None, prev=None, child=None):\n",
        "        self.value = value\n",
        "        self.next = next\n",
        "        self.prev = prev\n",
        "        self.child = child\n",
        "\n",
        "def flatten(head):\n",
        "    if not head:\n",
        "        return None\n",
        "\n",
        "    # Helper function to recursively flatten the list\n",
        "    def flatten_dfs(node):\n",
        "        curr = node\n",
        "        tail = node\n",
        "\n",
        "        while curr:\n",
        "            next_node = curr.next\n",
        "            if curr.child:\n",
        "                # Flatten the child list\n",
        "                child_tail = flatten_dfs(curr.child)\n",
        "\n",
        "                # Connect the child list to the current node\n",
        "                curr.next = curr.child\n",
        "                curr.child.prev = curr\n",
        "                curr.child = None\n",
        "\n",
        "                # Connect the tail of the child list to the next node\n",
        "                if child_tail:\n",
        "                    child_tail.next = next_node\n",
        "                    if next_node:\n",
        "                        next_node.prev = child_tail\n",
        "\n",
        "                # Update the tail to the end of the child list\n",
        "                tail = child_tail\n",
        "            else:\n",
        "                tail = curr\n",
        "\n",
        "            curr = next_node\n",
        "\n",
        "        return tail\n",
        "\n",
        "    # Initialize the flattening process\n",
        "    flatten_dfs(head)\n",
        "    return head\n",
        "\n",
        "# Helper function to print the linked list\n",
        "def print_linked_list(head):\n",
        "    while head:\n",
        "        print(head.value, end=' <-> ' if head.next else '')\n",
        "        head = head.next\n",
        "    print()\n",
        "\n",
        "# Example usage\n",
        "# Creating the multilevel list\n",
        "# Level 1: 1 <-> 2 <-> 3 <-> 7 <-> 8 <-> 11 -> 12\n",
        "#                  |\n",
        "#                  v\n",
        "# Level 2: 4 <-> 5 -> 9 -> 10\n",
        "#                  |\n",
        "#                  v\n",
        "# Level 3: 6 -> 13\n",
        "\n",
        "node13 = Node(13)\n",
        "node6 = Node(6, child=node13)\n",
        "node10 = Node(10)\n",
        "node9 = Node(9, next=node10)\n",
        "node5 = Node(5, next=node9)\n",
        "node4 = Node(4, next=node5)\n",
        "node12 = Node(12)\n",
        "node11 = Node(11, next=node12)\n",
        "node8 = Node(8, child=node4, next=node11)\n",
        "node7 = Node(7, next=node8)\n",
        "node3 = Node(3, next=node7)\n",
        "node2 = Node(2, next=node3)\n",
        "node1 = Node(1, next=node2)\n",
        "\n",
        "head = node1\n",
        "\n",
        "# Flatten and print the list\n",
        "flattened_list = flatten(head)\n",
        "print_linked_list(flattened_list)  # Expected output: 1 <-> 2 <-> 3 <-> 4 <-> 5 <-> 6 <-> 7 <-> 8 <-> 9 <-> 10 <-> 11 <-> 12 <-> 13\n",
        "\n"
      ],
      "metadata": {
        "colab": {
          "base_uri": "https://localhost:8080/"
        },
        "id": "y1erTkHnM7k_",
        "outputId": "6ab441fc-37de-4b95-c6e5-9aaa04cdb21c"
      },
      "execution_count": 6,
      "outputs": [
        {
          "output_type": "stream",
          "name": "stdout",
          "text": [
            "1 <-> 2 <-> 3 <-> 7 <-> 8 <-> 4 <-> 5 <-> 9 <-> 10 <-> 11 <-> 12\n"
          ]
        }
      ]
    },
    {
      "cell_type": "markdown",
      "source": [
        "Problem 12: Rearrange a linked list such that all even positioned nodes are placed at the end.\n",
        "\n",
        "Input: 1 -> 2 -> 3 -> 4 -> 5\n",
        "\n",
        "Output: 1 -> 3 -> 5 -> 2 -> 4"
      ],
      "metadata": {
        "id": "VXrVIInONMj3"
      }
    },
    {
      "cell_type": "code",
      "source": [
        "class ListNode:\n",
        "    def __init__(self, value=0, next=None):\n",
        "        self.value = value\n",
        "        self.next = next\n",
        "\n",
        "def rearrange_list(head):\n",
        "    if not head or not head.next:\n",
        "        return head\n",
        "\n",
        "    # Initialize pointers for odd and even lists\n",
        "    odd_head = odd_curr = ListNode(0)  # Dummy node for odd list\n",
        "    even_head = even_curr = ListNode(0)  # Dummy node for even list\n",
        "\n",
        "    is_odd = True\n",
        "    current = head\n",
        "\n",
        "    while current:\n",
        "        if is_odd:\n",
        "            odd_curr.next = current\n",
        "            odd_curr = odd_curr.next\n",
        "        else:\n",
        "            even_curr.next = current\n",
        "            even_curr = even_curr.next\n",
        "        current = current.next\n",
        "        is_odd = not is_odd\n",
        "\n",
        "    # End the even list and concatenate the two lists\n",
        "    even_curr.next = None\n",
        "    odd_curr.next = even_head.next\n",
        "\n",
        "    return odd_head.next\n",
        "\n",
        "# Helper function to print the linked list\n",
        "def print_linked_list(head):\n",
        "    while head:\n",
        "        print(head.value, end=' -> ' if head.next else '')\n",
        "        head = head.next\n",
        "    print()\n",
        "\n",
        "# Example usage\n",
        "# Creating List: 1 -> 2 -> 3 -> 4 -> 5\n",
        "head = ListNode(1, ListNode(2, ListNode(3, ListNode(4, ListNode(5)))))\n",
        "\n",
        "result = rearrange_list(head)\n",
        "print_linked_list(result)  # Expected output: 1 -> 3 -> 5 -> 2 -> 4\n"
      ],
      "metadata": {
        "colab": {
          "base_uri": "https://localhost:8080/"
        },
        "id": "cCvkp3R3NJgn",
        "outputId": "831e436f-4925-4fed-fda5-308bccfd0d66"
      },
      "execution_count": 7,
      "outputs": [
        {
          "output_type": "stream",
          "name": "stdout",
          "text": [
            "1 -> 3 -> 5 -> 2 -> 4\n"
          ]
        }
      ]
    },
    {
      "cell_type": "markdown",
      "source": [
        "Problem 13: Given a non-negative number represented as a linked list, add one to it.\n",
        "\n",
        "Input: 1 -> 2 -> 3 (represents the number 123)\n",
        "\n",
        "Output: 1 -> 2 -> 4 (represents the number 124)"
      ],
      "metadata": {
        "id": "1PdsKXOMNYiH"
      }
    },
    {
      "cell_type": "code",
      "source": [
        "class ListNode:\n",
        "    def __init__(self, value=0, next=None):\n",
        "        self.value = value\n",
        "        self.next = next\n",
        "\n",
        "def reverse_list(head):\n",
        "    prev = None\n",
        "    current = head\n",
        "    while current:\n",
        "        next_node = current.next\n",
        "        current.next = prev\n",
        "        prev = current\n",
        "        current = next_node\n",
        "    return prev\n",
        "\n",
        "def add_one(head):\n",
        "    # Reverse the linked list\n",
        "    head = reverse_list(head)\n",
        "\n",
        "    # Add one to the reversed list\n",
        "    current = head\n",
        "    carry = 1\n",
        "\n",
        "    while current and carry:\n",
        "        current_sum = current.value + carry\n",
        "        carry = current_sum // 10\n",
        "        current.value = current_sum % 10\n",
        "        prev = current\n",
        "        current = current.next\n",
        "\n",
        "    # If there is still carry left, add a new node\n",
        "    if carry:\n",
        "        prev.next = ListNode(carry)\n",
        "\n",
        "    # Reverse the list again to restore the original order\n",
        "    return reverse_list(head)\n",
        "\n",
        "# Helper function to print the linked list\n",
        "def print_linked_list(head):\n",
        "    while head:\n",
        "        print(head.value, end=' -> ' if head.next else '')\n",
        "        head = head.next\n",
        "    print()\n",
        "\n",
        "# Example usage\n",
        "# Creating List: 1 -> 2 -> 3\n",
        "head = ListNode(1, ListNode(2, ListNode(3)))\n",
        "\n",
        "result = add_one(head)\n",
        "print_linked_list(result)  # Expected output: 1 -> 2 -> 4\n"
      ],
      "metadata": {
        "colab": {
          "base_uri": "https://localhost:8080/"
        },
        "id": "mTIT88BdNWPP",
        "outputId": "cf535af1-ebd7-4896-9cc0-cff534674033"
      },
      "execution_count": 8,
      "outputs": [
        {
          "output_type": "stream",
          "name": "stdout",
          "text": [
            "1 -> 2 -> 4\n"
          ]
        }
      ]
    },
    {
      "cell_type": "markdown",
      "source": [
        "Problem 14: Given a sorted array and a target value, return the index if the target is found. If not, return the\n",
        "index where it would be inserted.\n",
        "\n",
        "Input: nums = [1, 3, 5, 6], target = 5\n",
        "\n",
        "Output: 2"
      ],
      "metadata": {
        "id": "AJvsWL6dNiko"
      }
    },
    {
      "cell_type": "code",
      "source": [
        "def search_insert(nums, target):\n",
        "    left, right = 0, len(nums) - 1\n",
        "\n",
        "    while left <= right:\n",
        "        mid = (left + right) // 2\n",
        "\n",
        "        if nums[mid] == target:\n",
        "            return mid\n",
        "        elif nums[mid] < target:\n",
        "            left = mid + 1\n",
        "        else:\n",
        "            right = mid - 1\n",
        "\n",
        "    return left\n",
        "\n",
        "# Example usage\n",
        "nums = [1, 3, 5, 6]\n",
        "target = 5\n",
        "\n",
        "result = search_insert(nums, target)\n",
        "print(result)  # Expected output: 2\n"
      ],
      "metadata": {
        "colab": {
          "base_uri": "https://localhost:8080/"
        },
        "id": "EvLw-wnvNgpX",
        "outputId": "7f85922f-c8e9-4734-b0ba-2088d380023d"
      },
      "execution_count": 9,
      "outputs": [
        {
          "output_type": "stream",
          "name": "stdout",
          "text": [
            "2\n"
          ]
        }
      ]
    },
    {
      "cell_type": "markdown",
      "source": [
        "Problem 15: Find the minimum element in a rotated sorted array.\n",
        "\n",
        "Input: [4, 5, 6, 7, 0, 1, 2]\n",
        "\n",
        "Output: 0\n"
      ],
      "metadata": {
        "id": "RUafxTbBNttP"
      }
    },
    {
      "cell_type": "code",
      "source": [
        "def find_min_in_rotated_sorted_array(nums):\n",
        "    left, right = 0, len(nums) - 1\n",
        "\n",
        "    while left < right:\n",
        "        mid = left + (right - left) // 2\n",
        "\n",
        "        if nums[mid] > nums[right]:\n",
        "            left = mid + 1\n",
        "        else:\n",
        "            right = mid\n",
        "\n",
        "    return nums[left]\n",
        "\n",
        "# Example usage:\n",
        "nums = [4, 5, 6, 7, 0, 1, 2]\n",
        "min_element = find_min_in_rotated_sorted_array(nums)\n",
        "print(min_element)  # Output: 0\n"
      ],
      "metadata": {
        "colab": {
          "base_uri": "https://localhost:8080/"
        },
        "id": "TX8Howj7Nrgw",
        "outputId": "a1d0c49a-e06b-4305-c6f5-8b1685170d43"
      },
      "execution_count": 10,
      "outputs": [
        {
          "output_type": "stream",
          "name": "stdout",
          "text": [
            "0\n"
          ]
        }
      ]
    },
    {
      "cell_type": "markdown",
      "source": [
        "Problem 16: Search for a target value in a rotated sorted array.\n",
        "\n",
        "Input: nums = [4, 5, 6, 7, 0, 1, 2], target = 0\n",
        "\n",
        "Output: 4"
      ],
      "metadata": {
        "id": "nmOAbyJMN_nP"
      }
    },
    {
      "cell_type": "code",
      "source": [
        "def search_in_rotated_sorted_array(nums, target):\n",
        "    left, right = 0, len(nums) - 1\n",
        "\n",
        "    while left <= right:\n",
        "        mid = left + (right - left) // 2\n",
        "\n",
        "        if nums[mid] == target:\n",
        "            return mid\n",
        "\n",
        "        # Left half is sorted\n",
        "        if nums[left] <= nums[mid]:\n",
        "            if nums[left] <= target < nums[mid]:\n",
        "                right = mid - 1\n",
        "            else:\n",
        "                left = mid + 1\n",
        "        # Right half is sorted\n",
        "        else:\n",
        "            if nums[mid] < target <= nums[right]:\n",
        "                left = mid + 1\n",
        "            else:\n",
        "                right = mid - 1\n",
        "\n",
        "    return -1\n",
        "\n",
        "# Example usage:\n",
        "nums = [4, 5, 6, 7, 0, 1, 2]\n",
        "target = 0\n",
        "index = search_in_rotated_sorted_array(nums, target)\n",
        "print(index)  # Output: 4\n"
      ],
      "metadata": {
        "colab": {
          "base_uri": "https://localhost:8080/"
        },
        "id": "fcMWXmvfN9On",
        "outputId": "d5a0f56a-5d85-4c1a-9257-96868b08aa7e"
      },
      "execution_count": 11,
      "outputs": [
        {
          "output_type": "stream",
          "name": "stdout",
          "text": [
            "4\n"
          ]
        }
      ]
    },
    {
      "cell_type": "markdown",
      "source": [
        "Problem 17: Find the peak element in an array. A peak element is greater than its neighbors.\n",
        "\n",
        "Input: nums = [1, 2, 3, 1]\n",
        "\n",
        "Output: 2 (index of peak element)"
      ],
      "metadata": {
        "id": "5I21PA5gOLP_"
      }
    },
    {
      "cell_type": "code",
      "source": [
        "def find_peak_element(nums):\n",
        "    left, right = 0, len(nums) - 1\n",
        "\n",
        "    while left < right:\n",
        "        mid = left + (right - left) // 2\n",
        "\n",
        "        if nums[mid] > nums[mid + 1]:\n",
        "            right = mid\n",
        "        else:\n",
        "            left = mid + 1\n",
        "\n",
        "    return left\n",
        "\n",
        "# Example usage:\n",
        "nums = [1, 2, 3, 1]\n",
        "index = find_peak_element(nums)\n",
        "print(index)  # Output: 2\n"
      ],
      "metadata": {
        "colab": {
          "base_uri": "https://localhost:8080/"
        },
        "id": "Jl5XK0mrOJYv",
        "outputId": "d9b20f95-83c1-42a2-dbb7-bef401285e8b"
      },
      "execution_count": 12,
      "outputs": [
        {
          "output_type": "stream",
          "name": "stdout",
          "text": [
            "2\n"
          ]
        }
      ]
    },
    {
      "cell_type": "markdown",
      "source": [
        "Problem 18: Given a m x n matrix where each row and column is sorted in ascending order, count the number\n",
        "of negative numbers.\n",
        "\n",
        "Input: grid = [[4, 3, 2, -1], [3, 2, 1, -1], [1, 1, -1, -2], [-1, -1, -2, -3]]\n",
        "\n",
        "Output: 8"
      ],
      "metadata": {
        "id": "Ic9gxAJJOWfn"
      }
    },
    {
      "cell_type": "code",
      "source": [
        "def count_negatives(grid):\n",
        "    m, n = len(grid), len(grid[0])\n",
        "    row, col = m - 1, 0\n",
        "    count = 0\n",
        "\n",
        "    while row >= 0 and col < n:\n",
        "        if grid[row][col] < 0:\n",
        "            # All elements above in this column are negative\n",
        "            count += row + 1\n",
        "            col += 1\n",
        "        else:\n",
        "            row -= 1\n",
        "\n",
        "    return count\n",
        "\n",
        "# Example usage:\n",
        "grid = [[4, 3, 2, -1],\n",
        "        [3, 2, 1, -1],\n",
        "        [1, 1, -1, -2],\n",
        "        [-1, -1, -2, -3]]\n",
        "result = count_negatives(grid)\n",
        "print(result)  # Output: 8\n"
      ],
      "metadata": {
        "colab": {
          "base_uri": "https://localhost:8080/"
        },
        "id": "hQN5Sgw5OUX3",
        "outputId": "19637c52-35b6-4cd7-f6cf-1572ee15c18f"
      },
      "execution_count": 13,
      "outputs": [
        {
          "output_type": "stream",
          "name": "stdout",
          "text": [
            "16\n"
          ]
        }
      ]
    },
    {
      "cell_type": "markdown",
      "source": [
        "Problem 19: Given a 2D matrix sorted in ascending order in each row, and the first integer of each row is\n",
        "greater than the last integer of the previous row, determine if a target value is present in the matrix.\n",
        "\n",
        "Input: matrix = [[1, 3, 5, 7], [10, 11, 16, 20], [23, 30, 34, 60]], target = 3\n",
        "\n",
        "Output: True"
      ],
      "metadata": {
        "id": "Urfe79cyOi5n"
      }
    },
    {
      "cell_type": "code",
      "source": [
        "def search_matrix(matrix, target):\n",
        "    if not matrix or not matrix[0]:\n",
        "        return False\n",
        "\n",
        "    m, n = len(matrix), len(matrix[0])\n",
        "    left, right = 0, m * n - 1\n",
        "\n",
        "    while left <= right:\n",
        "        mid = (left + right) // 2\n",
        "        row = mid // n\n",
        "        col = mid % n\n",
        "        mid_value = matrix[row][col]\n",
        "\n",
        "        if mid_value == target:\n",
        "            return True\n",
        "        elif mid_value < target:\n",
        "            left = mid + 1\n",
        "        else:\n",
        "            right = mid - 1\n",
        "\n",
        "    return False\n",
        "\n",
        "# Example usage:\n",
        "matrix = [[1, 3, 5, 7],\n",
        "          [10, 11, 16, 20],\n",
        "          [23, 30, 34, 60]]\n",
        "target = 3\n",
        "result = search_matrix(matrix, target)\n",
        "print(result)  # Output: True\n"
      ],
      "metadata": {
        "colab": {
          "base_uri": "https://localhost:8080/"
        },
        "id": "ZcJNx5yHOgkH",
        "outputId": "69aee3ff-0366-4183-f86b-71ad9bcd165d"
      },
      "execution_count": 14,
      "outputs": [
        {
          "output_type": "stream",
          "name": "stdout",
          "text": [
            "True\n"
          ]
        }
      ]
    },
    {
      "cell_type": "markdown",
      "source": [
        "Problem 20: Find Median in Two Sorted Arrays\n",
        "Problem: Given two sorted arrays, find the median of the combined sorted array.\n",
        "\n",
        "Input: nums1 = [1, 3], nums2 = [2]\n",
        "\n",
        "Output: 2.0"
      ],
      "metadata": {
        "id": "ATylC3s0OuoP"
      }
    },
    {
      "cell_type": "code",
      "source": [
        "def find_median_sorted_arrays(nums1, nums2):\n",
        "    # Ensure nums1 is the smaller array\n",
        "    if len(nums1) > len(nums2):\n",
        "        nums1, nums2 = nums2, nums1\n",
        "\n",
        "    x, y = len(nums1), len(nums2)\n",
        "    low, high = 0, x\n",
        "\n",
        "    while low <= high:\n",
        "        partitionX = (low + high) // 2\n",
        "        partitionY = (x + y + 1) // 2 - partitionX\n",
        "\n",
        "        maxX = float('-inf') if partitionX == 0 else nums1[partitionX - 1]\n",
        "        minX = float('inf') if partitionX == x else nums1[partitionX]\n",
        "\n",
        "        maxY = float('-inf') if partitionY == 0 else nums2[partitionY - 1]\n",
        "        minY = float('inf') if partitionY == y else nums2[partitionY]\n",
        "\n",
        "        if maxX <= minY and maxY <= minX:\n",
        "            # Found the correct partition\n",
        "            if (x + y) % 2 == 0:\n",
        "                return (max(maxX, maxY) + min(minX, minY)) / 2\n",
        "            else:\n",
        "                return max(maxX, maxY)\n",
        "        elif maxX > minY:\n",
        "            high = partitionX - 1\n",
        "        else:\n",
        "            low = partitionX + 1\n",
        "\n",
        "    raise ValueError(\"Input arrays are not sorted.\")\n",
        "\n",
        "# Example usage:\n",
        "nums1 = [1, 3]\n",
        "nums2 = [2]\n",
        "result = find_median_sorted_arrays(nums1, nums2)\n",
        "print(result)  # Output: 2.0\n"
      ],
      "metadata": {
        "colab": {
          "base_uri": "https://localhost:8080/"
        },
        "id": "5_7nT5TrOsTA",
        "outputId": "74c06a82-4792-449d-bf6f-965806319dc6"
      },
      "execution_count": 15,
      "outputs": [
        {
          "output_type": "stream",
          "name": "stdout",
          "text": [
            "2\n"
          ]
        }
      ]
    },
    {
      "cell_type": "markdown",
      "source": [
        "Problem 21: Given a sorted character array and a target letter, find the smallest letter in the array that is\n",
        "greater than the target.\n",
        "\n",
        "Input: letters = ['c', 'f', 'j'], target = a\n",
        "\n",
        "Output: 'c'"
      ],
      "metadata": {
        "id": "t4Bsq_NsO60H"
      }
    },
    {
      "cell_type": "code",
      "source": [
        "def next_greatest_letter(letters, target):\n",
        "    left, right = 0, len(letters) - 1\n",
        "\n",
        "    while left <= right:\n",
        "        mid = left + (right - left) // 2\n",
        "\n",
        "        if letters[mid] > target:\n",
        "            right = mid - 1\n",
        "        else:\n",
        "            left = mid + 1\n",
        "\n",
        "    # Since the array is circular, if left goes out of bounds, wrap around to the first element\n",
        "    return letters[left % len(letters)]\n",
        "\n",
        "# Example usage:\n",
        "letters = ['c', 'f', 'j']\n",
        "target = 'a'\n",
        "result = next_greatest_letter(letters, target)\n",
        "print(result)  # Output: 'c'\n"
      ],
      "metadata": {
        "colab": {
          "base_uri": "https://localhost:8080/"
        },
        "id": "45wWiQ82O4bY",
        "outputId": "7f4fae21-dd1e-4a13-834f-4320a82e1f56"
      },
      "execution_count": 16,
      "outputs": [
        {
          "output_type": "stream",
          "name": "stdout",
          "text": [
            "c\n"
          ]
        }
      ]
    },
    {
      "cell_type": "markdown",
      "source": [
        "Problem 22: Given an array with n objects colored red, white, or blue, sort them in-place so that objects of\n",
        "the same color are adjacent, with the colors in the order red, white, and blue.\n",
        "\n",
        "Input: nums = [2, 0, 2, 1, 1, 0]\n",
        "\n",
        "Output: [0, 0, 1, 1, 2, 2]"
      ],
      "metadata": {
        "id": "W3k7TPCLPGcX"
      }
    },
    {
      "cell_type": "code",
      "source": [
        "def sort_colors(nums):\n",
        "    low, mid, high = 0, 0, len(nums) - 1\n",
        "\n",
        "    while mid <= high:\n",
        "        if nums[mid] == 0:\n",
        "            nums[low], nums[mid] = nums[mid], nums[low]\n",
        "            low += 1\n",
        "            mid += 1\n",
        "        elif nums[mid] == 1:\n",
        "            mid += 1\n",
        "        else:  # nums[mid] == 2\n",
        "            nums[mid], nums[high] = nums[high], nums[mid]\n",
        "            high -= 1\n",
        "\n",
        "# Example usage:\n",
        "nums = [2, 0, 2, 1, 1, 0]\n",
        "sort_colors(nums)\n",
        "print(nums)  # Output: [0, 0, 1, 1, 2, 2]\n"
      ],
      "metadata": {
        "colab": {
          "base_uri": "https://localhost:8080/"
        },
        "id": "gKmJF1f3PDZX",
        "outputId": "c32963c8-d094-473b-a5e9-75b1179fcca0"
      },
      "execution_count": 17,
      "outputs": [
        {
          "output_type": "stream",
          "name": "stdout",
          "text": [
            "[0, 0, 1, 1, 2, 2]\n"
          ]
        }
      ]
    },
    {
      "cell_type": "markdown",
      "source": [
        "Problem 23: Find the kth largest element in an unsorted array.\n",
        "\n",
        "Input: nums = [3, 2, 1, 5, 6, 4], k = 2\n",
        "\n",
        "Output: 5"
      ],
      "metadata": {
        "id": "QydpOX1bPSPv"
      }
    },
    {
      "cell_type": "code",
      "source": [
        "import random\n",
        "\n",
        "def partition(nums, left, right):\n",
        "    pivot = nums[right]\n",
        "    i = left\n",
        "    for j in range(left, right):\n",
        "        if nums[j] <= pivot:\n",
        "            nums[i], nums[j] = nums[j], nums[i]\n",
        "            i += 1\n",
        "    nums[i], nums[right] = nums[right], nums[i]\n",
        "    return i\n",
        "\n",
        "def quickselect(nums, left, right, k):\n",
        "    if left == right:\n",
        "        return nums[left]\n",
        "\n",
        "    pivot_index = partition(nums, left, right)\n",
        "\n",
        "    if k == pivot_index:\n",
        "        return nums[k]\n",
        "    elif k < pivot_index:\n",
        "        return quickselect(nums, left, pivot_index - 1, k)\n",
        "    else:\n",
        "        return quickselect(nums, pivot_index + 1, right, k)\n",
        "\n",
        "def find_kth_largest(nums, k):\n",
        "    # kth largest is the (n - k)th smallest in 0-indexed array\n",
        "    return quickselect(nums, 0, len(nums) - 1, len(nums) - k)\n",
        "\n",
        "# Example usage:\n",
        "nums = [3, 2, 1, 5, 6, 4]\n",
        "k = 2\n",
        "result = find_kth_largest(nums, k)\n",
        "print(result)  # Output: 5\n"
      ],
      "metadata": {
        "colab": {
          "base_uri": "https://localhost:8080/"
        },
        "id": "YDi5tX5ZPQBX",
        "outputId": "1390a6cf-4503-4701-be0a-123dd9afed83"
      },
      "execution_count": 18,
      "outputs": [
        {
          "output_type": "stream",
          "name": "stdout",
          "text": [
            "5\n"
          ]
        }
      ]
    },
    {
      "cell_type": "markdown",
      "source": [
        "Problem 24: Given an unsorted array, reorder it in-place such that nums[0] <= nums[1] >= nums[2] <=\n",
        "nums[3]...\n",
        "\n",
        "Input: nums = [3, 5, 2, 1, 6, 4]\n",
        "\n",
        "Output: [3, 5, 1, 6, 2, 4]"
      ],
      "metadata": {
        "id": "5EszCIjuPil3"
      }
    },
    {
      "cell_type": "code",
      "source": [
        "def wiggle_sort(nums):\n",
        "    for i in range(len(nums) - 1):\n",
        "        if (i % 2 == 0 and nums[i] > nums[i + 1]) or (i % 2 == 1 and nums[i] < nums[i + 1]):\n",
        "            # Swap elements to satisfy the wiggle condition\n",
        "            nums[i], nums[i + 1] = nums[i + 1], nums[i]\n",
        "\n",
        "# Example usage:\n",
        "nums = [3, 5, 2, 1, 6, 4]\n",
        "wiggle_sort(nums)\n",
        "print(nums)  # Output: [3, 5, 1, 6, 2, 4]\n"
      ],
      "metadata": {
        "colab": {
          "base_uri": "https://localhost:8080/"
        },
        "id": "9G0_MbD2PgW_",
        "outputId": "8d48afa2-fecd-4c0e-e75e-81dde7b62b15"
      },
      "execution_count": 19,
      "outputs": [
        {
          "output_type": "stream",
          "name": "stdout",
          "text": [
            "[3, 5, 1, 6, 2, 4]\n"
          ]
        }
      ]
    },
    {
      "cell_type": "markdown",
      "source": [
        "Problem 25: Given an array of integers, calculate the sum of all its elements.\n",
        "\n",
        "Input: [1, 2, 3, 4, 5]\n",
        "\n",
        "Output: 15"
      ],
      "metadata": {
        "id": "IreU-iORPzrv"
      }
    },
    {
      "cell_type": "code",
      "source": [
        "def sum_of_elements(nums):\n",
        "    return sum(nums)\n",
        "\n",
        "# Example usage:\n",
        "nums = [1, 2, 3, 4, 5]\n",
        "result = sum_of_elements(nums)\n",
        "print(result)  # Output: 15\n"
      ],
      "metadata": {
        "colab": {
          "base_uri": "https://localhost:8080/"
        },
        "id": "i1bHmYdWPsiP",
        "outputId": "9a33be63-bc03-46b8-c169-556976253baf"
      },
      "execution_count": 20,
      "outputs": [
        {
          "output_type": "stream",
          "name": "stdout",
          "text": [
            "15\n"
          ]
        }
      ]
    },
    {
      "cell_type": "markdown",
      "source": [
        "Problem 26: Find the maximum element in an array of integers.\n",
        "\n",
        "Input: [3, 7, 2, 9, 4, 1]\n",
        "\n",
        "Output: 9"
      ],
      "metadata": {
        "id": "fCFYV9e7Rx_2"
      }
    },
    {
      "cell_type": "code",
      "source": [
        "def find_max_element(nums):\n",
        "    return max(nums)\n",
        "\n",
        "# Example usage:\n",
        "nums = [3, 7, 2, 9, 4, 1]\n",
        "result = find_max_element(nums)\n",
        "print(result)  # Output: 9\n"
      ],
      "metadata": {
        "colab": {
          "base_uri": "https://localhost:8080/"
        },
        "id": "J2CcaBCXRsg2",
        "outputId": "c222c11f-d0d3-474a-db30-683918adca2c"
      },
      "execution_count": 21,
      "outputs": [
        {
          "output_type": "stream",
          "name": "stdout",
          "text": [
            "9\n"
          ]
        }
      ]
    },
    {
      "cell_type": "markdown",
      "source": [
        "Problem 27: Implement linear search to find the index of a target element in an array.\n",
        "\n",
        "Input: [5, 3, 8, 2, 7, 4], target = 8\n",
        "\n",
        "Output: 2"
      ],
      "metadata": {
        "id": "2NqPHVtXR-x3"
      }
    },
    {
      "cell_type": "code",
      "source": [
        "def linear_search(nums, target):\n",
        "    for i in range(len(nums)):\n",
        "        if nums[i] == target:\n",
        "            return i  # Return the index if target is found\n",
        "    return -1  # Return -1 if target is not found\n",
        "\n",
        "# Example usage:\n",
        "nums = [5, 3, 8, 2, 7, 4]\n",
        "target = 8\n",
        "result = linear_search(nums, target)\n",
        "print(result)  # Output: 2\n"
      ],
      "metadata": {
        "colab": {
          "base_uri": "https://localhost:8080/"
        },
        "id": "ONspMfgMR8Xv",
        "outputId": "16686de9-ac1d-4ca1-a750-89dc2d2bc5c9"
      },
      "execution_count": 22,
      "outputs": [
        {
          "output_type": "stream",
          "name": "stdout",
          "text": [
            "2\n"
          ]
        }
      ]
    },
    {
      "cell_type": "markdown",
      "source": [
        "Problem 28 Calculate the factorial of a given number.\n",
        "\n",
        "Input: 5\n",
        "\n",
        "Output: 120 (as 5! = 5 * 4 * 3 * 2 * 1 = 120)"
      ],
      "metadata": {
        "id": "HNiQ0HBlSJmP"
      }
    },
    {
      "cell_type": "code",
      "source": [
        "def factorial(n):\n",
        "    if n == 0 or n == 1:\n",
        "        return 1\n",
        "    else:\n",
        "        return n * factorial(n - 1)\n",
        "\n",
        "# Example usage:\n",
        "n = 5\n",
        "result = factorial(n)\n",
        "print(result)  # Output: 120\n"
      ],
      "metadata": {
        "colab": {
          "base_uri": "https://localhost:8080/"
        },
        "id": "4DTEdWKySH6Q",
        "outputId": "5078cdc2-ef89-4a44-af1f-fb797a05ccda"
      },
      "execution_count": 23,
      "outputs": [
        {
          "output_type": "stream",
          "name": "stdout",
          "text": [
            "120\n"
          ]
        }
      ]
    },
    {
      "cell_type": "markdown",
      "source": [
        "Problem 29: Check if a given number is a prime number.\n",
        "\n",
        "Input: 7\n",
        "\n",
        "Output: True"
      ],
      "metadata": {
        "id": "bgmCcXNrSSye"
      }
    },
    {
      "cell_type": "code",
      "source": [
        "def is_prime(n):\n",
        "    if n <= 1:\n",
        "        return False  # 0 and 1 are not prime numbers\n",
        "    if n <= 3:\n",
        "        return True  # 2 and 3 are prime numbers\n",
        "    if n % 2 == 0 or n % 3 == 0:\n",
        "        return False  # divisible by 2 or 3\n",
        "\n",
        "    i = 5\n",
        "    while i * i <= n:\n",
        "        if n % i == 0 or n % (i + 2) == 0:\n",
        "            return False\n",
        "        i += 6\n",
        "\n",
        "    return True\n",
        "\n",
        "# Example usage:\n",
        "n = 7\n",
        "result = is_prime(n)\n",
        "print(result)  # Output: True\n"
      ],
      "metadata": {
        "colab": {
          "base_uri": "https://localhost:8080/"
        },
        "id": "K3a7esjHSQ-2",
        "outputId": "9ff6c19b-530a-4a11-d664-662ad4804cec"
      },
      "execution_count": 24,
      "outputs": [
        {
          "output_type": "stream",
          "name": "stdout",
          "text": [
            "True\n"
          ]
        }
      ]
    },
    {
      "cell_type": "markdown",
      "source": [
        "Problem 30: Generate the Fibonacci series up to a given number n.\n",
        "\n",
        "Input: 8\n",
        "\n",
        "Output: [0, 1, 1, 2, 3, 5, 8, 13]"
      ],
      "metadata": {
        "id": "vH_6ap4tScxX"
      }
    },
    {
      "cell_type": "code",
      "source": [
        "def generate_fibonacci(n):\n",
        "    if n < 0:\n",
        "        return []  # No Fibonacci numbers for negative n\n",
        "    if n == 0:\n",
        "        return [0]  # The Fibonacci sequence starting at 0\n",
        "\n",
        "    fib_series = [0, 1]\n",
        "\n",
        "    while True:\n",
        "        next_fib = fib_series[-1] + fib_series[-2]\n",
        "        if next_fib > n:\n",
        "            break\n",
        "        fib_series.append(next_fib)\n",
        "\n",
        "    return fib_series\n",
        "\n",
        "# Example usage:\n",
        "n = 8\n",
        "result = generate_fibonacci(n)\n",
        "print(result)  # Output: [0, 1, 1, 2, 3, 5, 8]\n"
      ],
      "metadata": {
        "colab": {
          "base_uri": "https://localhost:8080/"
        },
        "id": "GD4vLxsXSav-",
        "outputId": "938ed380-1b10-4c06-e80d-eae02d2d81a1"
      },
      "execution_count": 25,
      "outputs": [
        {
          "output_type": "stream",
          "name": "stdout",
          "text": [
            "[0, 1, 1, 2, 3, 5, 8]\n"
          ]
        }
      ]
    },
    {
      "cell_type": "markdown",
      "source": [
        "Problem 31: Calculate the power of a number using recursion.\n",
        "\n",
        "Input: base = 3, exponent = 4\n",
        "\n",
        "Output: 81 (as 3^4 = 3 * 3 * 3 * 3 = 81)"
      ],
      "metadata": {
        "id": "7uIZkk24SsGW"
      }
    },
    {
      "cell_type": "code",
      "source": [
        "def power(base, exponent):\n",
        "    # Base case: Any number raised to the power of 0 is 1\n",
        "    if exponent == 0:\n",
        "        return 1\n",
        "\n",
        "    # Recursive case: Multiply base by the result of base^(exponent - 1)\n",
        "    return base * power(base, exponent - 1)\n",
        "\n",
        "# Example usage:\n",
        "base = 3\n",
        "exponent = 4\n",
        "result = power(base, exponent)\n",
        "print(result)  # Output: 81\n"
      ],
      "metadata": {
        "colab": {
          "base_uri": "https://localhost:8080/"
        },
        "id": "4bLCqeaNSpxu",
        "outputId": "cf3211ea-6fc8-4a2a-9b33-1d4052940fd6"
      },
      "execution_count": 26,
      "outputs": [
        {
          "output_type": "stream",
          "name": "stdout",
          "text": [
            "81\n"
          ]
        }
      ]
    },
    {
      "cell_type": "markdown",
      "source": [
        "Problem 32: Reverse a given string.\n",
        "\n",
        "Input: \"hello\"\n",
        "\n",
        "Output: \"olleh\""
      ],
      "metadata": {
        "id": "w5Dqu-1WS5K3"
      }
    },
    {
      "cell_type": "code",
      "source": [
        "def reverse_string(s):\n",
        "    return s[::-1]\n",
        "\n",
        "# Example usage:\n",
        "input_str = \"hello\"\n",
        "result = reverse_string(input_str)\n",
        "print(result)  # Output: \"olleh\"\n"
      ],
      "metadata": {
        "colab": {
          "base_uri": "https://localhost:8080/"
        },
        "id": "6zGS7RFrS3NH",
        "outputId": "aabfc51b-ffb2-45b2-dc7b-11f3b8b4055a"
      },
      "execution_count": 27,
      "outputs": [
        {
          "output_type": "stream",
          "name": "stdout",
          "text": [
            "olleh\n"
          ]
        }
      ]
    },
    {
      "cell_type": "code",
      "source": [],
      "metadata": {
        "id": "MzgVdhmKTCa_"
      },
      "execution_count": null,
      "outputs": []
    }
  ]
}